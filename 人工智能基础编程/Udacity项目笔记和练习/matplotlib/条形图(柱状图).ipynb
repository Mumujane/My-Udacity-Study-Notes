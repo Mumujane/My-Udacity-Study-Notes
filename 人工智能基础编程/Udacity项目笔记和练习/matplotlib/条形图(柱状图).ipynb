{
 "cells": [
  {
   "cell_type": "code",
   "execution_count": 3,
   "metadata": {},
   "outputs": [],
   "source": [
    "import numpy as np\n",
    "import pandas as pd\n",
    "import matplotlib.pyplot as plt\n",
    "import seaborn as sb\n",
    "\n",
    "%matplotlib inline"
   ]
  },
  {
   "cell_type": "code",
   "execution_count": 54,
   "metadata": {},
   "outputs": [
    {
     "name": "stdout",
     "output_type": "stream",
     "text": [
      "      id      species  generation_id  height  weight  base_experience  \\\n",
      "0      1    bulbasaur              1     0.7     6.9               64   \n",
      "1      2      ivysaur              1     1.0    13.0              142   \n",
      "2      3     venusaur              1     2.0   100.0              236   \n",
      "3      4   charmander              1     0.6     8.5               62   \n",
      "4      5   charmeleon              1     1.1    19.0              142   \n",
      "5      6    charizard              1     1.7    90.5              240   \n",
      "6      7     squirtle              1     0.5     9.0               63   \n",
      "7      8    wartortle              1     1.0    22.5              142   \n",
      "8      9    blastoise              1     1.6    85.5              239   \n",
      "9     10     caterpie              1     0.3     2.9               39   \n",
      "10    11      metapod              1     0.7     9.9               72   \n",
      "11    12   butterfree              1     1.1    32.0              178   \n",
      "12    13       weedle              1     0.3     3.2               39   \n",
      "13    14       kakuna              1     0.6    10.0               72   \n",
      "14    15     beedrill              1     1.0    29.5              178   \n",
      "15    16       pidgey              1     0.3     1.8               50   \n",
      "16    17    pidgeotto              1     1.1    30.0              122   \n",
      "17    18      pidgeot              1     1.5    39.5              216   \n",
      "18    19      rattata              1     0.3     3.5               51   \n",
      "19    20     raticate              1     0.7    18.5              145   \n",
      "20    21      spearow              1     0.3     2.0               52   \n",
      "21    22       fearow              1     1.2    38.0              155   \n",
      "22    23        ekans              1     2.0     6.9               58   \n",
      "23    24        arbok              1     3.5    65.0              157   \n",
      "24    25      pikachu              1     0.4     6.0              112   \n",
      "25    26       raichu              1     0.8    30.0              218   \n",
      "26    27    sandshrew              1     0.6    12.0               60   \n",
      "27    28    sandslash              1     1.0    29.5              158   \n",
      "28    29    nidoran-f              1     0.4     7.0               55   \n",
      "29    30     nidorina              1     0.8    20.0              128   \n",
      "..   ...          ...            ...     ...     ...              ...   \n",
      "777  778      mimikyu              7     0.2     0.7              167   \n",
      "778  779      bruxish              7     0.9    19.0              166   \n",
      "779  780       drampa              7     3.0   185.0              170   \n",
      "780  781     dhelmise              7     3.9   210.0              181   \n",
      "781  782     jangmo-o              7     0.6    29.7               60   \n",
      "782  783     hakamo-o              7     1.2    47.0              147   \n",
      "783  784      kommo-o              7     1.6    78.2              270   \n",
      "784  785    tapu-koko              7     1.8    20.5              257   \n",
      "785  786    tapu-lele              7     1.2    18.6              257   \n",
      "786  787    tapu-bulu              7     1.9    45.5              257   \n",
      "787  788    tapu-fini              7     1.3    21.2              257   \n",
      "788  789       cosmog              7     0.2     0.1               40   \n",
      "789  790      cosmoem              7     0.1   999.9              140   \n",
      "790  791     solgaleo              7     3.4   230.0              306   \n",
      "791  792       lunala              7     4.0   120.0              306   \n",
      "792  793     nihilego              7     1.2    55.5              257   \n",
      "793  794     buzzwole              7     2.4   333.6              257   \n",
      "794  795    pheromosa              7     1.8    25.0              257   \n",
      "795  796    xurkitree              7     3.8   100.0              257   \n",
      "796  797   celesteela              7     9.2   999.9              257   \n",
      "797  798      kartana              7     0.3     0.1              257   \n",
      "798  799     guzzlord              7     5.5   888.0              257   \n",
      "799  800     necrozma              7     2.4   230.0              270   \n",
      "800  801     magearna              7     1.0    80.5              270   \n",
      "801  802    marshadow              7     0.7    22.2              270   \n",
      "802  803      poipole              7     0.6     1.8              189   \n",
      "803  804    naganadel              7     3.6   150.0              243   \n",
      "804  805    stakataka              7     5.5   820.0              257   \n",
      "805  806  blacephalon              7     1.8    13.0              257   \n",
      "806  807      zeraora              7     1.5    44.5              270   \n",
      "\n",
      "       type_1    type_2   hp  attack  defense  speed  special-attack  \\\n",
      "0       grass    poison   45      49       49     45              65   \n",
      "1       grass    poison   60      62       63     60              80   \n",
      "2       grass    poison   80      82       83     80             100   \n",
      "3        fire       NaN   39      52       43     65              60   \n",
      "4        fire       NaN   58      64       58     80              80   \n",
      "5        fire    flying   78      84       78    100             109   \n",
      "6       water       NaN   44      48       65     43              50   \n",
      "7       water       NaN   59      63       80     58              65   \n",
      "8       water       NaN   79      83      100     78              85   \n",
      "9         bug       NaN   45      30       35     45              20   \n",
      "10        bug       NaN   50      20       55     30              25   \n",
      "11        bug    flying   60      45       50     70              90   \n",
      "12        bug    poison   40      35       30     50              20   \n",
      "13        bug    poison   45      25       50     35              25   \n",
      "14        bug    poison   65      90       40     75              45   \n",
      "15     normal    flying   40      45       40     56              35   \n",
      "16     normal    flying   63      60       55     71              50   \n",
      "17     normal    flying   83      80       75    101              70   \n",
      "18     normal       NaN   30      56       35     72              25   \n",
      "19     normal       NaN   55      81       60     97              50   \n",
      "20     normal    flying   40      60       30     70              31   \n",
      "21     normal    flying   65      90       65    100              61   \n",
      "22     poison       NaN   35      60       44     55              40   \n",
      "23     poison       NaN   60      95       69     80              65   \n",
      "24   electric       NaN   35      55       40     90              50   \n",
      "25   electric       NaN   60      90       55    110              90   \n",
      "26     ground       NaN   50      75       85     40              20   \n",
      "27     ground       NaN   75     100      110     65              45   \n",
      "28     poison       NaN   55      47       52     41              40   \n",
      "29     poison       NaN   70      62       67     56              55   \n",
      "..        ...       ...  ...     ...      ...    ...             ...   \n",
      "777     ghost     fairy   55      90       80     96              50   \n",
      "778     water   psychic   68     105       70     92              70   \n",
      "779    normal    dragon   78      60       85     36             135   \n",
      "780     ghost     grass   70     131      100     40              86   \n",
      "781    dragon       NaN   45      55       65     45              45   \n",
      "782    dragon  fighting   55      75       90     65              65   \n",
      "783    dragon  fighting   75     110      125     85             100   \n",
      "784  electric     fairy   70     115       85    130              95   \n",
      "785   psychic     fairy   70      85       75     95             130   \n",
      "786     grass     fairy   70     130      115     75              85   \n",
      "787     water     fairy   70      75      115     85              95   \n",
      "788   psychic       NaN   43      29       31     37              29   \n",
      "789   psychic       NaN   43      29      131     37              29   \n",
      "790   psychic     steel  137     137      107     97             113   \n",
      "791   psychic     ghost  137     113       89     97             137   \n",
      "792      rock    poison  109      53       47    103             127   \n",
      "793       bug  fighting  107     139      139     79              53   \n",
      "794       bug  fighting   71     137       37    151             137   \n",
      "795  electric       NaN   83      89       71     83             173   \n",
      "796     steel    flying   97     101      103     61             107   \n",
      "797     grass     steel   59     181      131    109              59   \n",
      "798      dark    dragon  223     101       53     43              97   \n",
      "799   psychic       NaN   97     107      101     79             127   \n",
      "800     steel     fairy   80      95      115     65             130   \n",
      "801  fighting     ghost   90     125       80    125              90   \n",
      "802    poison       NaN   67      73       67     73              73   \n",
      "803    poison    dragon   73      73       73    121             127   \n",
      "804      rock     steel   61     131      211     13              53   \n",
      "805      fire     ghost   53     127       53    107             151   \n",
      "806  electric       NaN   88     112       75    143             102   \n",
      "\n",
      "     special-defense  \n",
      "0                 65  \n",
      "1                 80  \n",
      "2                100  \n",
      "3                 50  \n",
      "4                 65  \n",
      "5                 85  \n",
      "6                 64  \n",
      "7                 80  \n",
      "8                105  \n",
      "9                 20  \n",
      "10                25  \n",
      "11                80  \n",
      "12                20  \n",
      "13                25  \n",
      "14                80  \n",
      "15                35  \n",
      "16                50  \n",
      "17                70  \n",
      "18                35  \n",
      "19                70  \n",
      "20                31  \n",
      "21                61  \n",
      "22                54  \n",
      "23                79  \n",
      "24                50  \n",
      "25                80  \n",
      "26                30  \n",
      "27                55  \n",
      "28                40  \n",
      "29                55  \n",
      "..               ...  \n",
      "777              105  \n",
      "778               70  \n",
      "779               91  \n",
      "780               90  \n",
      "781               45  \n",
      "782               70  \n",
      "783              105  \n",
      "784               75  \n",
      "785              115  \n",
      "786               95  \n",
      "787              130  \n",
      "788               31  \n",
      "789              131  \n",
      "790               89  \n",
      "791              107  \n",
      "792              131  \n",
      "793               53  \n",
      "794               37  \n",
      "795               71  \n",
      "796              101  \n",
      "797               31  \n",
      "798               53  \n",
      "799               89  \n",
      "800              115  \n",
      "801               90  \n",
      "802               67  \n",
      "803               73  \n",
      "804              101  \n",
      "805               79  \n",
      "806               80  \n",
      "\n",
      "[807 rows x 14 columns]\n",
      "<class 'pandas.core.frame.DataFrame'>\n",
      "(807, 14)\n"
     ]
    },
    {
     "data": {
      "text/html": [
       "<div>\n",
       "<style scoped>\n",
       "    .dataframe tbody tr th:only-of-type {\n",
       "        vertical-align: middle;\n",
       "    }\n",
       "\n",
       "    .dataframe tbody tr th {\n",
       "        vertical-align: top;\n",
       "    }\n",
       "\n",
       "    .dataframe thead th {\n",
       "        text-align: right;\n",
       "    }\n",
       "</style>\n",
       "<table border=\"1\" class=\"dataframe\">\n",
       "  <thead>\n",
       "    <tr style=\"text-align: right;\">\n",
       "      <th></th>\n",
       "      <th>id</th>\n",
       "      <th>species</th>\n",
       "      <th>generation_id</th>\n",
       "      <th>height</th>\n",
       "      <th>weight</th>\n",
       "      <th>base_experience</th>\n",
       "      <th>type_1</th>\n",
       "      <th>type_2</th>\n",
       "      <th>hp</th>\n",
       "      <th>attack</th>\n",
       "      <th>defense</th>\n",
       "      <th>speed</th>\n",
       "      <th>special-attack</th>\n",
       "      <th>special-defense</th>\n",
       "    </tr>\n",
       "  </thead>\n",
       "  <tbody>\n",
       "    <tr>\n",
       "      <th>0</th>\n",
       "      <td>1</td>\n",
       "      <td>bulbasaur</td>\n",
       "      <td>1</td>\n",
       "      <td>0.7</td>\n",
       "      <td>6.9</td>\n",
       "      <td>64</td>\n",
       "      <td>grass</td>\n",
       "      <td>poison</td>\n",
       "      <td>45</td>\n",
       "      <td>49</td>\n",
       "      <td>49</td>\n",
       "      <td>45</td>\n",
       "      <td>65</td>\n",
       "      <td>65</td>\n",
       "    </tr>\n",
       "    <tr>\n",
       "      <th>1</th>\n",
       "      <td>2</td>\n",
       "      <td>ivysaur</td>\n",
       "      <td>1</td>\n",
       "      <td>1.0</td>\n",
       "      <td>13.0</td>\n",
       "      <td>142</td>\n",
       "      <td>grass</td>\n",
       "      <td>poison</td>\n",
       "      <td>60</td>\n",
       "      <td>62</td>\n",
       "      <td>63</td>\n",
       "      <td>60</td>\n",
       "      <td>80</td>\n",
       "      <td>80</td>\n",
       "    </tr>\n",
       "    <tr>\n",
       "      <th>2</th>\n",
       "      <td>3</td>\n",
       "      <td>venusaur</td>\n",
       "      <td>1</td>\n",
       "      <td>2.0</td>\n",
       "      <td>100.0</td>\n",
       "      <td>236</td>\n",
       "      <td>grass</td>\n",
       "      <td>poison</td>\n",
       "      <td>80</td>\n",
       "      <td>82</td>\n",
       "      <td>83</td>\n",
       "      <td>80</td>\n",
       "      <td>100</td>\n",
       "      <td>100</td>\n",
       "    </tr>\n",
       "    <tr>\n",
       "      <th>3</th>\n",
       "      <td>4</td>\n",
       "      <td>charmander</td>\n",
       "      <td>1</td>\n",
       "      <td>0.6</td>\n",
       "      <td>8.5</td>\n",
       "      <td>62</td>\n",
       "      <td>fire</td>\n",
       "      <td>NaN</td>\n",
       "      <td>39</td>\n",
       "      <td>52</td>\n",
       "      <td>43</td>\n",
       "      <td>65</td>\n",
       "      <td>60</td>\n",
       "      <td>50</td>\n",
       "    </tr>\n",
       "    <tr>\n",
       "      <th>4</th>\n",
       "      <td>5</td>\n",
       "      <td>charmeleon</td>\n",
       "      <td>1</td>\n",
       "      <td>1.1</td>\n",
       "      <td>19.0</td>\n",
       "      <td>142</td>\n",
       "      <td>fire</td>\n",
       "      <td>NaN</td>\n",
       "      <td>58</td>\n",
       "      <td>64</td>\n",
       "      <td>58</td>\n",
       "      <td>80</td>\n",
       "      <td>80</td>\n",
       "      <td>65</td>\n",
       "    </tr>\n",
       "    <tr>\n",
       "      <th>5</th>\n",
       "      <td>6</td>\n",
       "      <td>charizard</td>\n",
       "      <td>1</td>\n",
       "      <td>1.7</td>\n",
       "      <td>90.5</td>\n",
       "      <td>240</td>\n",
       "      <td>fire</td>\n",
       "      <td>flying</td>\n",
       "      <td>78</td>\n",
       "      <td>84</td>\n",
       "      <td>78</td>\n",
       "      <td>100</td>\n",
       "      <td>109</td>\n",
       "      <td>85</td>\n",
       "    </tr>\n",
       "    <tr>\n",
       "      <th>6</th>\n",
       "      <td>7</td>\n",
       "      <td>squirtle</td>\n",
       "      <td>1</td>\n",
       "      <td>0.5</td>\n",
       "      <td>9.0</td>\n",
       "      <td>63</td>\n",
       "      <td>water</td>\n",
       "      <td>NaN</td>\n",
       "      <td>44</td>\n",
       "      <td>48</td>\n",
       "      <td>65</td>\n",
       "      <td>43</td>\n",
       "      <td>50</td>\n",
       "      <td>64</td>\n",
       "    </tr>\n",
       "    <tr>\n",
       "      <th>7</th>\n",
       "      <td>8</td>\n",
       "      <td>wartortle</td>\n",
       "      <td>1</td>\n",
       "      <td>1.0</td>\n",
       "      <td>22.5</td>\n",
       "      <td>142</td>\n",
       "      <td>water</td>\n",
       "      <td>NaN</td>\n",
       "      <td>59</td>\n",
       "      <td>63</td>\n",
       "      <td>80</td>\n",
       "      <td>58</td>\n",
       "      <td>65</td>\n",
       "      <td>80</td>\n",
       "    </tr>\n",
       "    <tr>\n",
       "      <th>8</th>\n",
       "      <td>9</td>\n",
       "      <td>blastoise</td>\n",
       "      <td>1</td>\n",
       "      <td>1.6</td>\n",
       "      <td>85.5</td>\n",
       "      <td>239</td>\n",
       "      <td>water</td>\n",
       "      <td>NaN</td>\n",
       "      <td>79</td>\n",
       "      <td>83</td>\n",
       "      <td>100</td>\n",
       "      <td>78</td>\n",
       "      <td>85</td>\n",
       "      <td>105</td>\n",
       "    </tr>\n",
       "    <tr>\n",
       "      <th>9</th>\n",
       "      <td>10</td>\n",
       "      <td>caterpie</td>\n",
       "      <td>1</td>\n",
       "      <td>0.3</td>\n",
       "      <td>2.9</td>\n",
       "      <td>39</td>\n",
       "      <td>bug</td>\n",
       "      <td>NaN</td>\n",
       "      <td>45</td>\n",
       "      <td>30</td>\n",
       "      <td>35</td>\n",
       "      <td>45</td>\n",
       "      <td>20</td>\n",
       "      <td>20</td>\n",
       "    </tr>\n",
       "  </tbody>\n",
       "</table>\n",
       "</div>"
      ],
      "text/plain": [
       "   id     species  generation_id  height  weight  base_experience type_1  \\\n",
       "0   1   bulbasaur              1     0.7     6.9               64  grass   \n",
       "1   2     ivysaur              1     1.0    13.0              142  grass   \n",
       "2   3    venusaur              1     2.0   100.0              236  grass   \n",
       "3   4  charmander              1     0.6     8.5               62   fire   \n",
       "4   5  charmeleon              1     1.1    19.0              142   fire   \n",
       "5   6   charizard              1     1.7    90.5              240   fire   \n",
       "6   7    squirtle              1     0.5     9.0               63  water   \n",
       "7   8   wartortle              1     1.0    22.5              142  water   \n",
       "8   9   blastoise              1     1.6    85.5              239  water   \n",
       "9  10    caterpie              1     0.3     2.9               39    bug   \n",
       "\n",
       "   type_2  hp  attack  defense  speed  special-attack  special-defense  \n",
       "0  poison  45      49       49     45              65               65  \n",
       "1  poison  60      62       63     60              80               80  \n",
       "2  poison  80      82       83     80             100              100  \n",
       "3     NaN  39      52       43     65              60               50  \n",
       "4     NaN  58      64       58     80              80               65  \n",
       "5  flying  78      84       78    100             109               85  \n",
       "6     NaN  44      48       65     43              50               64  \n",
       "7     NaN  59      63       80     58              65               80  \n",
       "8     NaN  79      83      100     78              85              105  \n",
       "9     NaN  45      30       35     45              20               20  "
      ]
     },
     "execution_count": 54,
     "metadata": {},
     "output_type": "execute_result"
    }
   ],
   "source": [
    "pokemon = pd.read_csv('pokemon.csv')\n",
    "#print(pokemon)\n",
    "print(type(pokemon))\n",
    "print(pokemon.shape)\n",
    "pokemon.head(10)\n"
   ]
  },
  {
   "cell_type": "code",
   "execution_count": 14,
   "metadata": {},
   "outputs": [
    {
     "data": {
      "image/png": "[encoded data removed]",
      "text/plain": [
       "<Figure size 432x288 with 1 Axes>"
      ]
     },
     "metadata": {},
     "output_type": "display_data"
    }
   ],
   "source": [
    "#取上面数据集中的一个类别变量 generation_id 创建柱状图\n",
    "#创建柱状图 => seaborn 的函数 countplot\n",
    "sb.countplot(data = pokemon, x = 'generation_id' );\n",
    "\n",
    "#参数: data 数据源, 参数:x 目标变量列  \";\" : 图标绘制对象的信息不会显示出来\n",
    "\n",
    "\n",
    "# 条形图用于描述分类变量的分布情况。\n",
    "# 在条形图中，分类变量的每个级别用长条表示，高度表示数据在该级别的出现频率。\n",
    "#我们可以通过 seaborn 的 countplot 函数创建基本的频率条形图："
   ]
  },
  {
   "cell_type": "code",
   "execution_count": 15,
   "metadata": {},
   "outputs": [
    {
     "data": {
      "text/plain": [
       "[(0.12156862745098039, 0.4666666666666667, 0.7058823529411765),\n",
       " (1.0, 0.4980392156862745, 0.054901960784313725),\n",
       " (0.17254901960784313, 0.6274509803921569, 0.17254901960784313),\n",
       " (0.8392156862745098, 0.15294117647058825, 0.1568627450980392),\n",
       " (0.5803921568627451, 0.403921568627451, 0.7411764705882353),\n",
       " (0.5490196078431373, 0.33725490196078434, 0.29411764705882354),\n",
       " (0.8901960784313725, 0.4666666666666667, 0.7607843137254902),\n",
       " (0.4980392156862745, 0.4980392156862745, 0.4980392156862745),\n",
       " (0.7372549019607844, 0.7411764705882353, 0.13333333333333333),\n",
       " (0.09019607843137255, 0.7450980392156863, 0.8117647058823529)]"
      ]
     },
     "execution_count": 15,
     "metadata": {},
     "output_type": "execute_result"
    }
   ],
   "source": [
    "# 只用一种颜色显示: sb.color_palette(), 函数返回一个元祖列表\n",
    "sb.color_palette()  # 返回现在默认的色板\n",
    "\n",
    "\n",
    "#color_palette 返回一个 RGB 元组列表，每个元组指定一个颜色。数字参数返回当前/默认调色板"
   ]
  },
  {
   "cell_type": "code",
   "execution_count": 27,
   "metadata": {},
   "outputs": [
    {
     "data": {
      "text/plain": [
       "(0.17254901960784313, 0.6274509803921569, 0.17254901960784313)"
      ]
     },
     "execution_count": 27,
     "metadata": {},
     "output_type": "execute_result"
    }
   ],
   "source": [
    "sb.color_palette()[2] # 切片"
   ]
  },
  {
   "cell_type": "code",
   "execution_count": 32,
   "metadata": {},
   "outputs": [],
   "source": [
    "base_color = sb.color_palette()[3] #赋值给一个变量保存下"
   ]
  },
  {
   "cell_type": "code",
   "execution_count": 33,
   "metadata": {},
   "outputs": [
    {
     "data": {
      "image/png": "[encoded data removed]",
      "text/plain": [
       "<Figure size 432x288 with 1 Axes>"
      ]
     },
     "metadata": {},
     "output_type": "display_data"
    }
   ],
   "source": [
    "#在countplot 函数中设置颜色\n",
    "sb.countplot(data = pokemon, x = 'generation_id', color= base_color);"
   ]
  },
  {
   "cell_type": "code",
   "execution_count": 34,
   "metadata": {},
   "outputs": [
    {
     "data": {
      "image/png": "[encoded data removed]",
      "text/plain": [
       "<Figure size 432x288 with 1 Axes>"
      ]
     },
     "metadata": {},
     "output_type": "display_data"
    }
   ],
   "source": [
    "#排序:\n",
    "#在countplot 中使用order 参数\n",
    "\n",
    "# 1. 使用硬编码相应的值排序\n",
    "\n",
    "sb.countplot(data = pokemon, x = 'generation_id', color= base_color,\n",
    "            order = [5,1,3,4,2,7,6]\n",
    "            );"
   ]
  },
  {
   "cell_type": "code",
   "execution_count": 39,
   "metadata": {},
   "outputs": [
    {
     "name": "stdout",
     "output_type": "stream",
     "text": [
      "Int64Index([5, 1, 3, 4, 2, 7, 6], dtype='int64')\n"
     ]
    }
   ],
   "source": [
    "#排序:\n",
    "#在countplot 中使用order 参数\n",
    "\n",
    "# 2. 编写代码,让程序自动排序\n",
    "#        => pandas 序列函数: value_counts\n",
    "\n",
    "gen_order = pokemon['generation_id'].value_counts().index\n",
    "print(order)\n",
    "\n",
    "\n",
    "\n",
    "# sb.countplot(data = pokemon, x = 'generation_id', color= base_color,\n",
    "#             order = [5,1,3,4,2,7,6]\n",
    "#             );"
   ]
  },
  {
   "cell_type": "code",
   "execution_count": 40,
   "metadata": {},
   "outputs": [
    {
     "data": {
      "image/png": "[encoded data removed]",
      "text/plain": [
       "<Figure size 432x288 with 1 Axes>"
      ]
     },
     "metadata": {},
     "output_type": "display_data"
    }
   ],
   "source": [
    "sb.countplot(data = pokemon, x = 'generation_id', color= base_color,\n",
    "             order = gen_order);"
   ]
  },
  {
   "cell_type": "code",
   "execution_count": 47,
   "metadata": {},
   "outputs": [
    {
     "data": {
      "image/png": "[encoded data removed]",
      "text/plain": [
       "<Figure size 432x288 with 1 Axes>"
      ]
     },
     "metadata": {},
     "output_type": "display_data"
    }
   ],
   "source": [
    "# 类型 type (type_1 type_2)\n",
    "# 下面查看精灵属性的分布: 生成柱状图如下:\n",
    "sb.countplot(data = pokemon, x = 'type_1', color= base_color);\n"
   ]
  },
  {
   "cell_type": "code",
   "execution_count": 49,
   "metadata": {},
   "outputs": [
    {
     "data": {
      "image/png": "[encoded data removed]",
      "text/plain": [
       "<Figure size 432x288 with 1 Axes>"
      ]
     },
     "metadata": {},
     "output_type": "display_data"
    }
   ],
   "source": [
    "##?? 太拥挤了, 难以阅读, 怎么办?\n",
    "#旋转类别标签 => 使用Matplotlib 的函数 xticks()\n",
    "sb.countplot(data = pokemon, x = 'type_1', color= base_color);\n",
    "plt.xticks(rotation = 90);\n"
   ]
  },
  {
   "cell_type": "code",
   "execution_count": 50,
   "metadata": {},
   "outputs": [
    {
     "data": {
      "image/png": "[encoded data removed]",
      "text/plain": [
       "<Figure size 432x288 with 1 Axes>"
      ]
     },
     "metadata": {},
     "output_type": "display_data"
    }
   ],
   "source": [
    "# 也可以创建水平柱状图来解决问题:(将X 改成 y 就可以了)\n",
    "\n",
    "sb.countplot(data = pokemon, y = 'type_1', color= base_color);"
   ]
  },
  {
   "cell_type": "code",
   "execution_count": 52,
   "metadata": {},
   "outputs": [
    {
     "data": {
      "image/png": "[encoded data removed]",
      "text/plain": [
       "<Figure size 432x288 with 1 Axes>"
      ]
     },
     "metadata": {},
     "output_type": "display_data"
    }
   ],
   "source": [
    "#对上面的~ 水平柱状图排序:\n",
    "type_order = pokemon['type_1'].value_counts().index\n",
    "sb.countplot(data = pokemon, y = 'type_1', color= base_color, order = type_order);"
   ]
  },
  {
   "cell_type": "code",
   "execution_count": null,
   "metadata": {},
   "outputs": [],
   "source": []
  },
  {
   "cell_type": "code",
   "execution_count": null,
   "metadata": {},
   "outputs": [],
   "source": []
  }
 ],
 "metadata": {
  "kernelspec": {
   "display_name": "Python 3",
   "language": "python",
   "name": "python3"
  },
  "language_info": {
   "codemirror_mode": {
    "name": "ipython",
    "version": 3
   },
   "file_extension": ".py",
   "mimetype": "text/x-python",
   "name": "python",
   "nbconvert_exporter": "python",
   "pygments_lexer": "ipython3",
   "version": "3.6.5"
  }
 },
 "nbformat": 4,
 "nbformat_minor": 2
}
